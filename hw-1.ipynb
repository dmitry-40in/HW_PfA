{
 "cells": [
  {
   "attachments": {},
   "cell_type": "markdown",
   "metadata": {},
   "source": [
    "## Задание 2\n",
    "На складе лежат разные фрукты в разном количестве.  \n",
    "Нужно написать функцию, которая на вход принимает любое количество названий фруктов и их количество, а возвращает общее количество фруктов на складе."
   ]
  },
  {
   "cell_type": "code",
   "execution_count": 1,
   "metadata": {},
   "outputs": [
    {
     "name": "stdout",
     "output_type": "stream",
     "text": [
      "Всего на складе 20 фрутков.\n"
     ]
    }
   ],
   "source": [
    "def fruits_count(**fruits: dict) -> int:\n",
    "    total_fruits = sum([value for value in fruits.values()])\n",
    "    return total_fruits\n",
    "\n",
    "print(f\"Всего на складе {fruits_count(banana=5, mango=7, apple=8)} фрутков.\")"
   ]
  },
  {
   "attachments": {},
   "cell_type": "markdown",
   "metadata": {},
   "source": [
    "## Задание 3\n",
    "Дан список с затратами на рекламу.  \n",
    "Но в данных есть ошибки, некоторые затраты имеют отрицательную величину.  \n",
    "Удалите такие значения из списка и посчитайте суммарные затраты:  \n",
    "`[100, 125, -90, 345, 655, -1, 0, 200]`\n",
    "\n",
    "Используйте list comprehensions."
   ]
  },
  {
   "cell_type": "code",
   "execution_count": 2,
   "metadata": {},
   "outputs": [
    {
     "name": "stdout",
     "output_type": "stream",
     "text": [
      "Суммарные затараты: 1425.\n"
     ]
    }
   ],
   "source": [
    "def check_list(costs_list: list) -> int:\n",
    "    total_costs = sum([i for i in costs_list if i > 0])\n",
    "    return total_costs\n",
    "\n",
    "print(f\"Суммарные затараты: {check_list([100, 125, -90, 345, 655, -1, 0, 200])}.\")"
   ]
  },
  {
   "attachments": {},
   "cell_type": "markdown",
   "metadata": {},
   "source": [
    "## Задание 4\n",
    "Даны два списка.\n",
    "\n",
    "\n",
    "Дата покупки  \n",
    "```['2021-09-14', '2021-12-15', '2021-09-08', '2021-12-05', '2021-10-09', '2021-09-30', '2021-12-22', '2021-11-29', '2021-12-24', '2021-11-26', '2021-10-27', '2021-12-18', '2021-11-09', '2021-11-23', '2021-09-27', '2021-10-02', '2021-12-27', '2021-09-20', '2021-12-13', '2021-11-01', '2021-11-09', '2021-12-06', '2021-12-08', '2021-10-09', '2021-10-31', '2021-09-30', '2021-11-09', '2021-12-13', '2021-10-26', '2021-12-09']```\n",
    "\n",
    "\n",
    "Суммы покупок по датам  \n",
    "```[1270, 8413, 9028, 3703, 5739, 4095, 295, 4944, 5723, 3701, 4471, 651, 7037, 4274, 6275, 4988, 6930, 2971, 6592, 2004, 2822, 519, 3406, 2732, 5015, 2008, 316, 6333, 5700, 2887]```  \n",
    "### 4.1 Найдите, какая выручка у компании в ноябре  \n",
    "Используйте list comprehensions  "
   ]
  },
  {
   "cell_type": "code",
   "execution_count": 3,
   "metadata": {},
   "outputs": [
    {
     "name": "stdout",
     "output_type": "stream",
     "text": [
      "В ноябре у компании выручка: 25098.\n"
     ]
    }
   ],
   "source": [
    "date = ['2021-09-14', '2021-12-15', '2021-09-08', '2021-12-05', '2021-10-09', '2021-09-30', '2021-12-22', '2021-11-29', '2021-12-24', '2021-11-26', '2021-10-27', '2021-12-18', '2021-11-09', '2021-11-23', '2021-09-27', '2021-10-02', '2021-12-27', '2021-09-20', '2021-12-13', '2021-11-01', '2021-11-09', '2021-12-06', '2021-12-08', '2021-10-09', '2021-10-31', '2021-09-30', '2021-11-09', '2021-12-13', '2021-10-26', '2021-12-09']\n",
    "purchases = [1270, 8413, 9028, 3703, 5739, 4095, 295, 4944, 5723, 3701, 4471, 651, 7037, 4274, 6275, 4988, 6930, 2971, 6592, 2004, 2822, 519, 3406, 2732, 5015, 2008, 316, 6333, 5700, 2887]\n",
    "\n",
    "\n",
    "def revenue_of_november(date_list: list, purchases_list: list) -> int:\n",
    "    rev_nov = sum([purchases_list[i] for i in range(len(date_list)) if '-11-' in date_list[i]])\n",
    "    return rev_nov\n",
    "\n",
    "print(f\"В ноябре у компании выручка: {revenue_of_november(date, purchases)}.\")"
   ]
  },
  {
   "attachments": {},
   "cell_type": "markdown",
   "metadata": {},
   "source": [
    "### 4.2 Найдите выручку компании в зависимости от месяца  \n",
    "Для этого напишите функцию, которая на вход принимает список с датами и список с выручкой, а на выходе словарь, где ключи - это месяцы, а значения - это выручка.  \n",
    "Используйте аннотирование типов."
   ]
  },
  {
   "cell_type": "code",
   "execution_count": 8,
   "metadata": {},
   "outputs": [
    {
     "name": "stdout",
     "output_type": "stream",
     "text": [
      "Выручка компании помесячно: {'09': 25647, '12': 45452, '10': 28645, '11': 25098}\n",
      "Выручка {9: 25647, 10: 28645, 11: 25098, 12: 45452}\n"
     ]
    }
   ],
   "source": [
    "def month_revenue(date_list: list, purchases_list: list) -> dict:\n",
    "    month_rev = {}\n",
    "    for i in range(len(date_list)):\n",
    "        if date_list[i].split(\"-\")[1] in month_rev:\n",
    "            month_rev[date_list[i].split(\"-\")[1]] += purchases_list[i]\n",
    "        else:\n",
    "            month_rev[date_list[i].split(\"-\")[1]] = purchases_list[i]\n",
    "\n",
    "    return month_rev\n",
    "\n",
    "print(f\"Выручка компании помесячно: {month_revenue(date, purchases)}\")\n",
    "\n",
    "def rev(date_list, purchases_list):\n",
    "    # mrev = {}\n",
    "    return {month: sum([purchases_list[i] for i in range(len(date_list)) if int(date_list[i].split('-')[1]) == month]) \\\n",
    "            for month in range(1, 13)  \\\n",
    "            if sum([purchases_list[i] for i in range(len(date_list)) if int(date_list[i].split('-')[1]) == month]) != 0}\n",
    "\n",
    "print(f\"Выручка {rev(date, purchases)}\")\n"
   ]
  }
 ],
 "metadata": {
  "kernelspec": {
   "display_name": "Python 3",
   "language": "python",
   "name": "python3"
  },
  "language_info": {
   "codemirror_mode": {
    "name": "ipython",
    "version": 3
   },
   "file_extension": ".py",
   "mimetype": "text/x-python",
   "name": "python",
   "nbconvert_exporter": "python",
   "pygments_lexer": "ipython3",
   "version": "3.10.11"
  },
  "orig_nbformat": 4
 },
 "nbformat": 4,
 "nbformat_minor": 2
}
